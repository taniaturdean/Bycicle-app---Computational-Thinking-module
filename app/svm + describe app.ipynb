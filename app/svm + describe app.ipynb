{
 "cells": [
  {
   "cell_type": "code",
   "execution_count": null,
   "metadata": {},
   "outputs": [],
   "source": [
    "import pandas as pd\n",
    "import numpy as np"
   ]
  },
  {
   "cell_type": "code",
   "execution_count": null,
   "metadata": {},
   "outputs": [],
   "source": [
    "light2018=pd.read_excel(\"data/light_traffic_2018.xlsx\")\n",
    "light2018=light2018.rename({\"traffic\":\"traffic_by_light\"},axis=1)\n",
    "light2018"
   ]
  },
  {
   "cell_type": "code",
   "execution_count": null,
   "metadata": {},
   "outputs": [],
   "source": [
    "light2019=pd.read_excel(\"data/lightcondition_trafic2019.xlsx\")"
   ]
  },
  {
   "cell_type": "code",
   "execution_count": null,
   "metadata": {},
   "outputs": [],
   "source": [
    "df = pd.read_excel(\"data/2018casualties.xlsx\")"
   ]
  },
  {
   "cell_type": "code",
   "execution_count": null,
   "metadata": {},
   "outputs": [],
   "source": [
    "df"
   ]
  },
  {
   "cell_type": "code",
   "execution_count": null,
   "metadata": {},
   "outputs": [],
   "source": [
    "df2019=pd.read_excel(\"data/casualties2019.xlsx\")"
   ]
  },
  {
   "cell_type": "code",
   "execution_count": null,
   "metadata": {},
   "outputs": [],
   "source": [
    "df=df.loc[df[\"Road user\"] == \"Pedal cycle\"]"
   ]
  },
  {
   "cell_type": "code",
   "execution_count": null,
   "metadata": {},
   "outputs": [],
   "source": [
    "df"
   ]
  },
  {
   "cell_type": "code",
   "execution_count": null,
   "metadata": {},
   "outputs": [],
   "source": [
    "traffic= pd.read_excel(\"data/traficloc2018.xlsx\")\n",
    "traffic=traffic.rename({\"Trafficmillkm\":\"trafficmillkm_by_local\"},axis=1)\n",
    "traffic"
   ]
  },
  {
   "cell_type": "code",
   "execution_count": null,
   "metadata": {},
   "outputs": [],
   "source": [
    "mergedata = pd.merge(df,traffic, how='inner', on='Local authority')"
   ]
  },
  {
   "cell_type": "code",
   "execution_count": null,
   "metadata": {},
   "outputs": [],
   "source": [
    "mergedata"
   ]
  },
  {
   "cell_type": "code",
   "execution_count": null,
   "metadata": {},
   "outputs": [],
   "source": [
    "mergedata2=pd.merge(mergedata,light2018,how='inner',on='Light condition')"
   ]
  },
  {
   "cell_type": "code",
   "execution_count": null,
   "metadata": {},
   "outputs": [],
   "source": [
    "mergedata2"
   ]
  },
  {
   "cell_type": "code",
   "execution_count": null,
   "metadata": {},
   "outputs": [],
   "source": [
    "mergedata2['casualties/milkmtrafic']=mergedata2['All casualties']/mergedata2['trafficmillkm_by_local']/mergedata2[\"traffic_by_light\"]*100000"
   ]
  },
  {
   "cell_type": "code",
   "execution_count": null,
   "metadata": {},
   "outputs": [],
   "source": [
    "mergedata2"
   ]
  },
  {
   "cell_type": "code",
   "execution_count": null,
   "metadata": {},
   "outputs": [],
   "source": [
    "mergedata2['Local authority1']=mergedata2['Local authority']\n",
    "mergedata2['Light condition1']=mergedata2['Light condition']\n",
    "mergedata2['Weather condition1']=mergedata2['Weather condition']\n",
    "mergedata2"
   ]
  },
  {
   "cell_type": "code",
   "execution_count": null,
   "metadata": {},
   "outputs": [],
   "source": [
    "traffic2019= pd.read_excel(\"data/traficloc2019.xlsx\")"
   ]
  },
  {
   "cell_type": "code",
   "execution_count": null,
   "metadata": {},
   "outputs": [],
   "source": [
    "df2019=df2019.loc[df2019[\"Road user\"] == \"Pedal cycle\"]"
   ]
  },
  {
   "cell_type": "code",
   "execution_count": null,
   "metadata": {},
   "outputs": [],
   "source": [
    "mergedata2019 = pd.merge(df2019,traffic2019, how='inner', on='Local authority')"
   ]
  },
  {
   "cell_type": "code",
   "execution_count": null,
   "metadata": {},
   "outputs": [],
   "source": [
    "fmergedata2019= pd.merge(mergedata2019,light2019, how='inner', on='Light condition')"
   ]
  },
  {
   "cell_type": "code",
   "execution_count": null,
   "metadata": {},
   "outputs": [],
   "source": [
    "fmergedata2019['Local authority1']=fmergedata2019['Local authority']\n",
    "fmergedata2019['Light condition1']=fmergedata2019['Light condition']\n",
    "fmergedata2019['Weather condition1']=fmergedata2019['Weather condition']"
   ]
  },
  {
   "cell_type": "code",
   "execution_count": null,
   "metadata": {},
   "outputs": [],
   "source": [
    "fmergedata2019['casualties/milkmtrafic']=fmergedata2019['All casualties']/fmergedata2019['Trafifcmillkm']/fmergedata2019[\"traffic\"]*100000"
   ]
  },
  {
   "cell_type": "code",
   "execution_count": null,
   "metadata": {},
   "outputs": [],
   "source": [
    "out=fmergedata2019\n",
    "out\n",
    "out.to_excel(\"svm2019.xlsx\")"
   ]
  },
  {
   "cell_type": "code",
   "execution_count": null,
   "metadata": {},
   "outputs": [],
   "source": [
    "out=mergedata2\n",
    "out.to_excel(\"svm2018final.xlsx\")"
   ]
  },
  {
   "cell_type": "code",
   "execution_count": null,
   "metadata": {},
   "outputs": [],
   "source": [
    "\n",
    "encode=['Local authority','Light condition','Weather condition']\n",
    "\n",
    "from sklearn.preprocessing import LabelEncoder\n",
    "\n",
    "\n",
    "# Apply label encoder\n",
    "label_encoder = LabelEncoder()\n",
    "for col in set(encode):\n",
    "    mergedata2[col] = label_encoder.fit_transform(mergedata2[col])\n",
    "    fmergedata2019[col] = label_encoder.transform(fmergedata2019[col])"
   ]
  },
  {
   "cell_type": "code",
   "execution_count": null,
   "metadata": {},
   "outputs": [],
   "source": [
    "mergedata2"
   ]
  },
  {
   "cell_type": "code",
   "execution_count": null,
   "metadata": {},
   "outputs": [],
   "source": [
    "#svm\n",
    "\n",
    "x_train=mergedata2[[\"Local authority\",\"Light condition\",\"Weather condition\"]]\n",
    "y_train=mergedata2[\"casualties/milkmtrafic\"]\n",
    "\n",
    "\n",
    "x_test=fmergedata2019[[\"Local authority\",\"Light condition\",\"Weather condition\"]]\n",
    "y_test=fmergedata2019[\"casualties/milkmtrafic\"]"
   ]
  },
  {
   "cell_type": "code",
   "execution_count": null,
   "metadata": {},
   "outputs": [],
   "source": [
    "y_train"
   ]
  },
  {
   "cell_type": "code",
   "execution_count": null,
   "metadata": {},
   "outputs": [],
   "source": [
    "y_train.mean()"
   ]
  },
  {
   "cell_type": "code",
   "execution_count": null,
   "metadata": {},
   "outputs": [],
   "source": [
    "mergedata2['casualties/milkmtrafic'] = mergedata2['casualties/milkmtrafic'].astype(float)\n",
    "mergedata2['casualties/milkmtrafic2'] = mergedata2['casualties/milkmtrafic'].astype(float)"
   ]
  },
  {
   "cell_type": "code",
   "execution_count": null,
   "metadata": {},
   "outputs": [],
   "source": [
    "mergedata2[\"casualties/milkmtrafic2\"].loc[mergedata2[\"casualties/milkmtrafic\"] > 0.2343371911546619]=\"Dangerous\""
   ]
  },
  {
   "cell_type": "code",
   "execution_count": null,
   "metadata": {},
   "outputs": [],
   "source": [
    "mergedata2[\"casualties/milkmtrafic2\"].loc[mergedata2[\"casualties/milkmtrafic2\"] != \"Dangerous\"]=\"Safe\""
   ]
  },
  {
   "cell_type": "code",
   "execution_count": null,
   "metadata": {},
   "outputs": [],
   "source": [
    "mergedata2\n",
    "\n",
    "out=mergedata2\n",
    "out.to_excel(\"svm2018_.xlsx\")"
   ]
  },
  {
   "cell_type": "code",
   "execution_count": null,
   "metadata": {},
   "outputs": [],
   "source": [
    "y_train=mergedata2[\"casualties/milkmtrafic2\"]"
   ]
  },
  {
   "cell_type": "code",
   "execution_count": null,
   "metadata": {},
   "outputs": [],
   "source": [
    "fmergedata2019['casualties/milkmtrafic'] = fmergedata2019['casualties/milkmtrafic'].astype(float)\n",
    "fmergedata2019['casualties/milkmtrafic2'] = fmergedata2019['casualties/milkmtrafic'].astype(float)"
   ]
  },
  {
   "cell_type": "code",
   "execution_count": null,
   "metadata": {},
   "outputs": [],
   "source": [
    "y_test.mean()"
   ]
  },
  {
   "cell_type": "code",
   "execution_count": null,
   "metadata": {},
   "outputs": [],
   "source": [
    "\n",
    "fmergedata2019[\"casualties/milkmtrafic2\"].loc[fmergedata2019[\"casualties/milkmtrafic\"] > 0.231860205267536]=\"Dangerous\"\n",
    "fmergedata2019[\"casualties/milkmtrafic2\"].loc[fmergedata2019[\"casualties/milkmtrafic2\"] != \"Dangerous\"]=\"Safe\""
   ]
  },
  {
   "cell_type": "code",
   "execution_count": null,
   "metadata": {},
   "outputs": [],
   "source": [
    "out=fmergedata2019\n",
    "out.to_excel(\"svm2019_.xlsx\")"
   ]
  },
  {
   "cell_type": "code",
   "execution_count": null,
   "metadata": {},
   "outputs": [],
   "source": [
    "y_test=fmergedata2019[\"casualties/milkmtrafic2\"]\n",
    "y_train=mergedata2[\"casualties/milkmtrafic2\"]"
   ]
  },
  {
   "cell_type": "code",
   "execution_count": null,
   "metadata": {},
   "outputs": [],
   "source": [
    "#svm\n",
    "from sklearn import svm"
   ]
  },
  {
   "cell_type": "code",
   "execution_count": null,
   "metadata": {},
   "outputs": [],
   "source": [
    "# Chooses the support vector machine algorithm for our classifier\n",
    "clf = svm.SVC(gamma='auto')\n",
    "\n",
    "# Training the classifier\n",
    "clf_trained = clf.fit(x_train,y_train)\n",
    "\n",
    "# Scoring the classifier\n",
    "clf_trained.score(x_test,y_test)"
   ]
  },
  {
   "cell_type": "code",
   "execution_count": null,
   "metadata": {},
   "outputs": [],
   "source": [
    "#user input\n",
    "\n",
    "#light=\"Daylight\"\n",
    "#weather=\"Fine no high winds\"\n",
    "#local=\"Westminster\"\n",
    "\n",
    "light= input(\"Tell me the light conditions at this moment -  \")\n",
    "weather=input(\"Tell me the weather conditions at this moment -  \")\n",
    "local=input(\"Show me where are you on the map - \")\n",
    "\n",
    "\n",
    "\n",
    "\n",
    "x=fmergedata2019[\"Light condition\"].loc[fmergedata2019[\"Light condition1\"] ==light]\n",
    "\n",
    "x=pd.DataFrame(x)\n",
    "x.reset_index(drop=True, inplace=True)\n",
    "x1=x[\"Light condition\"][0]\n",
    "\n",
    "y=fmergedata2019[\"Weather condition\"].loc[fmergedata2019[\"Weather condition1\"] ==weather]\n",
    "y=pd.DataFrame(y)\n",
    "y.reset_index(drop=True, inplace=True)\n",
    "y1=y[\"Weather condition\"][0]\n",
    "\n",
    "z=fmergedata2019[\"Local authority\"].loc[fmergedata2019[\"Local authority1\"] ==local]\n",
    "z=pd.DataFrame(z)\n",
    "z.reset_index(drop=True, inplace=True)\n",
    "z1=z[\"Local authority\"][0]\n",
    "\n",
    "test_point2= np.array([[x1,y1,z1]])\n",
    "\n",
    "\n",
    "#OUTPUTS\n",
    "\n",
    "# 1. Making a prediction\n",
    "clf_trained.predict(test_point2)\n"
   ]
  },
  {
   "cell_type": "code",
   "execution_count": null,
   "metadata": {},
   "outputs": [],
   "source": [
    "#2. Describe\n",
    "\n",
    "b=fmergedata2019.loc[fmergedata2019[\"Light condition\"]==x1]\n",
    "c=b.loc[b[\"Weather condition\"]==y1]\n",
    "c"
   ]
  },
  {
   "cell_type": "code",
   "execution_count": null,
   "metadata": {},
   "outputs": [],
   "source": [
    "c.to_excel(\"inputdatafinalevge.xlsx\")"
   ]
  },
  {
   "cell_type": "code",
   "execution_count": null,
   "metadata": {},
   "outputs": [],
   "source": [
    "#light dataset\n",
    "\n",
    "# Creating an empty Dataframe with column names only\n",
    "dflight = pd.DataFrame(columns=['Light condition', 'Casualties'])\n",
    "\n",
    "for value in fmergedata2019[\"Light condition1\"].unique():\n",
    "    a=fmergedata2019[\"All casualties\"].loc[fmergedata2019[\"Light condition1\"]==value].sum()\n",
    "    dflight = dflight.append({'Light condition': value , 'Casualties': a }, ignore_index=True)\n",
    "\n",
    "dflight"
   ]
  },
  {
   "cell_type": "code",
   "execution_count": null,
   "metadata": {},
   "outputs": [],
   "source": [
    "# Converts data frame into a csv file without an index column\n",
    "dflight.to_excel(\"lightcondition_pedalcycle.xlsx\",index=False)"
   ]
  },
  {
   "cell_type": "code",
   "execution_count": null,
   "metadata": {},
   "outputs": [],
   "source": [
    "#weather dataset\n",
    "\n",
    "# Creating an empty Dataframe with column names only\n",
    "dfweather = pd.DataFrame(columns=['Weather condition', 'Casualties'])\n",
    "\n",
    "for value in df2019[\"Weather condition\"].unique():\n",
    "    a=df2019[\"All casualties\"].loc[df2019[\"Weather condition\"]==value].sum()\n",
    "    dfweather = dfweather.append({'Weather condition': value , 'Casualties': a }, ignore_index=True)\n",
    "\n",
    "dfweather"
   ]
  },
  {
   "cell_type": "code",
   "execution_count": null,
   "metadata": {},
   "outputs": [],
   "source": [
    "# Converts data frame into a csv file without an index column\n",
    "dfweather.to_excel(\"weathercondition_pedalcycle.xlsx\",index=False)"
   ]
  },
  {
   "cell_type": "code",
   "execution_count": null,
   "metadata": {},
   "outputs": [],
   "source": [
    "#local authority dataset\n",
    "\n",
    "# Creating an empty Dataframe with column names only\n",
    "dflocal = pd.DataFrame(columns=['Local authority', 'Casualties/1millkmtraffic'])\n",
    "\n",
    "for value in fmergedata2019[\"Local authority1\"].unique():\n",
    "    a=fmergedata2019[\"casualties/milkmtrafic\"].loc[fmergedata2019[\"Local authority1\"]==value].sum()\n",
    "    dflocal = dflocal.append({'Local authority': value , 'Casualties/1millkmtraffic': a }, ignore_index=True)\n",
    "\n",
    "dflocal"
   ]
  },
  {
   "cell_type": "code",
   "execution_count": null,
   "metadata": {},
   "outputs": [],
   "source": [
    "# Converts data frame into a csv file without an index column\n",
    "dflocal.to_excel(\"localauthorityLondon_pedalcyclefinal.xlsx\",index=False)"
   ]
  }
 ],
 "metadata": {
  "kernelspec": {
   "display_name": "Python 3",
   "language": "python",
   "name": "python3"
  },
  "language_info": {
   "codemirror_mode": {
    "name": "ipython",
    "version": 3
   },
   "file_extension": ".py",
   "mimetype": "text/x-python",
   "name": "python",
   "nbconvert_exporter": "python",
   "pygments_lexer": "ipython3",
   "version": "3.7.4"
  }
 },
 "nbformat": 4,
 "nbformat_minor": 2
}
